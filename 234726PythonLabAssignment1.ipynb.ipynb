{
 "cells": [
  {
   "cell_type": "code",
   "execution_count": 16,
   "metadata": {},
   "outputs": [
    {
     "name": "stdout",
     "output_type": "stream",
     "text": [
      "Hi everyone,\n",
      "This is Jannat,\n",
      "Register Number = 2347226  \n",
      "Lab Exercise =1\n",
      "\n",
      "My selected domain is Online podcast platform \n",
      "An online podcast platform is a digital service that enables the creation, distribution, and consumption of podcasts over the internet. \n",
      "Podcasts are audio or video content episodes that cover a wide range of topics, such as news, storytelling, interviews, education, entertainment, and more. \n",
      "Podcast platforms provide a centralized hub where podcast creators can upload and publish their episodes, while listeners can discover, subscribe to, and enjoy their favorite podcasts.\n",
      "\n",
      "Number of times the word  \"podcast\" have been repeated\n",
      "5\n",
      "\n",
      "dataType for the fname<class 'str'>\n",
      "dataType for the regNo<class 'int'>\n",
      "dataType for the labEx<class 'int'>\n",
      "dataType for the domainName<class 'str'>\n",
      "Number of alphabets is 480\n",
      "Number of digit is 8\n",
      "Number of special charcter is 111\n"
     ]
    }
   ],
   "source": [
    "# question 1\n",
    "#QUES PART1\n",
    "fname = \"Jannat\"\n",
    "regNo= 2347226\n",
    "labEx=1\n",
    "domainName =\"Online podcast platform\"\n",
    "intro = \"Hi everyone,\\nThis is {},\\nRegister Number = {}  \\nLab Exercise ={}\\n\\nMy selected domain is {} \\nAn online podcast platform is a digital service that enables the creation, distribution, and consumption of podcasts over the internet. \\nPodcasts are audio or video content episodes that cover a wide range of topics, such as news, storytelling, interviews, education, entertainment, and more. \\nPodcast platforms provide a centralized hub where podcast creators can upload and publish their episodes, while listeners can discover, subscribe to, and enjoy their favorite podcasts.\".format(\n",
    "   fname, regNo,labEx,domainName )\n",
    "\n",
    "print(intro)\n",
    "print(\"\\nNumber of times the word  \\\"podcast\\\" have been repeated\")\n",
    "print(intro.count(\"podcast\"))\n",
    "#QUES1 PART 2\n",
    "print(\"\\ndataType for the fname\" +str(type(fname)) +\"\\ndataType for the regNo\" +str(type(regNo))+\"\\ndataType for the labEx\" +str(type(labEx))+\"\\ndataType for the domainName\" +str(type(domainName)))\n",
    "# QUES1 PART 3\n",
    "char=0\n",
    "numeric=0\n",
    "specChar=0\n",
    "for words in intro:\n",
    "   if words.isalpha():\n",
    "      char += 1\n",
    "   elif words.isdigit():\n",
    "      numeric +=1\n",
    "   else:\n",
    "      specChar+=1\n",
    " \n",
    "print(\"Number of alphabets is \" +str(char)+\"\\nNumber of digit is \"+str(numeric) +\"\\nNumber of special charcter is \"+str(specChar))"
   ]
  },
  {
   "cell_type": "code",
   "execution_count": null,
   "metadata": {},
   "outputs": [
    {
     "name": "stdout",
     "output_type": "stream",
     "text": [
      "{True, 'podcast', 'Dr.Shefali', 9.2, 26}\n",
      "{True, 'Dr.Shefali', 9.2, 26}\n",
      "{True, 'Dr.Shefali', 26}\n",
      "{'Dr.Shefali', 26}\n",
      "set()\n",
      "{'hello admin', 'water@889', 'male ', 'admin_name_hrishabh', 'hero@gmail.com', 'True', 'jamshedpur'}\n"
     ]
    }
   ],
   "source": [
    "def admin():\n",
    "  \"\"\"Creates a Set with elements that consists of various data types int, float, string, Boolean.\"\"\"\n",
    "  set1 = {26, 9.2, \"podcast\",\"Dr.Shefali\",True}\n",
    "  return set1\n",
    "\n",
    "\n",
    "diff_items_set = admin()\n",
    "\n",
    "    \n",
    "print(diff_items_set)\n",
    "diff_items_set.remove(\"podcast\")\n",
    "print(diff_items_set)\n",
    "diff_items_set.discard(9.2)\n",
    "print(diff_items_set)\n",
    "diff_items_set.pop()\n",
    "print(diff_items_set)\n",
    "diff_items_set.clear()\n",
    "print(diff_items_set)\n",
    "#this was my initial set\n",
    "diff_items_set={26, 9.2, \"podcast\",\"Dr.Shefali\",True}\n",
    "print(diff_items_set)\n",
    "    \n",
    "'''My insights about remove ,discrad ,pop,\\n# pop delete any random number from set  clear\\n  remove delete the particular element that u mentioned in its argument \\nclear command deletes all the element of the set  '''\n"
   ]
  },
  {
   "cell_type": "code",
   "execution_count": null,
   "metadata": {},
   "outputs": [],
   "source": [
    "# domain_user=\"Jannat\"\n",
    "# domain_payment=12.0\n",
    "# domain_reviews=15\n",
    "# diff_domains=\"t\"{}"
   ]
  },
  {
   "cell_type": "code",
   "execution_count": 23,
   "metadata": {},
   "outputs": [
    {
     "name": "stdout",
     "output_type": "stream",
     "text": [
      "Actual Set:  {'Genre', 'Admin', 'User', 'Podcast', 'Reviews'}\n",
      "Sorted Set:  ['Admin', 'Genre', 'Podcast', 'Reviews', 'User']\n"
     ]
    }
   ],
   "source": [
    "# Sort the elements in the set.\n",
    "domain=set({\"User\",\"Admin\",\"Podcast\",\"Genre\",\"Reviews\"})\n",
    "print(\"Actual Set: \",domain)\n",
    "\n",
    "print(\"Sorted Set: \",sorted(domain))\n",
    "\n"
   ]
  },
  {
   "cell_type": "code",
   "execution_count": 24,
   "metadata": {},
   "outputs": [
    {
     "name": "stdout",
     "output_type": "stream",
     "text": [
      "Jay Shetty\n",
      "45\n",
      "Mental Health\n"
     ]
    }
   ],
   "source": [
    "tup1= (\"Jay Shetty\", 45,\"Mental Health\") #tuple packing\n",
    "(Speaker , Review ,Genre )=tup1   #tuple unpacking\n",
    "print(Speaker)\n",
    "print(Review)\n",
    "print(Genre)"
   ]
  },
  {
   "cell_type": "code",
   "execution_count": 27,
   "metadata": {},
   "outputs": [
    {
     "name": "stdout",
     "output_type": "stream",
     "text": [
      "Duplicate characters in the given string: \n",
      "n  -  13\n",
      "l  -  8\n",
      "i  -  6\n",
      "e  -  17\n",
      "P  -  2\n",
      "o  -  11\n",
      "d  -  4\n",
      "c  -  10\n",
      "a  -  11\n",
      "s  -  12\n",
      "t  -  11\n",
      "f  -  4\n",
      "r  -  10\n",
      "m  -  5\n",
      ",  -  5\n",
      "v  -  2\n",
      "u  -  5\n",
      "y  -  2\n",
      "p  -  3\n",
      "g  -  3\n",
      "h  -  2\n",
      "['Podcast', 'System']\n",
      "['Online', 'Podcast']\n",
      "['Podcast', 'System']\n",
      "['System', 'Online']\n",
      "['Online', 'Podcast', 'System']\n",
      "['Podcast']\n"
     ]
    }
   ],
   "source": [
    "domainName = \"Online Podcast Platform,Discover a carefully curated selection of podcasts spanning across genres such as technology, culture, self-improvement, entertainment, and more.\"\n",
    "    \n",
    "print(\"Duplicate characters in the given string: \")\n",
    "for i in range(0, len(domainName)):  \n",
    "    count = 1;  \n",
    "    for j in range(i+1, len(domainName)):  \n",
    "        if(domainName[i] == domainName[j] and domainName[i] != ' '):  \n",
    "            count = count + 1;  \n",
    "            domainName = domainName[:j] + '0' + domainName[j+1:];  \n",
    "    \n",
    "    if(count > 1 and domainName[i] != '0'):  \n",
    "        print(domainName[i],\" - \",count)\n",
    "\n",
    "\n",
    "domainName = [\"Online\",\"Podcast\", \"System\"]\n",
    "sliceList=domainName[1:3]\n",
    "print(sliceList)\n",
    "\n",
    "domainName = [\"Online\",\"Podcast\", \"System\"]\n",
    "sliceList=domainName[:2]\n",
    "print(sliceList)\n",
    "\n",
    "domainName = [\"Online\",\"Podcast\", \"System\"]\n",
    "sliceList=domainName[1:]\n",
    "print(sliceList)\n",
    "\n",
    "domainName = [\"Online\",\"Podcast\", \"System\"]\n",
    "sliced_list=domainName[::-2]\n",
    "print(sliced_list)\n",
    "\n",
    "\n",
    "domainName = [\"Online\",\"Podcast\", \"System\"]\n",
    "sliced_list=domainName[:]\n",
    "print(sliced_list)\n",
    "\n",
    "domainName = [\"Online\",\"Podcast\", \"System\"]\n",
    "sliced_list=domainName[-2:-1]\n",
    "print(sliced_list)"
   ]
  },
  {
   "cell_type": "code",
   "execution_count": null,
   "metadata": {},
   "outputs": [],
   "source": []
  }
 ],
 "metadata": {
  "kernelspec": {
   "display_name": "Python 3",
   "language": "python",
   "name": "python3"
  },
  "language_info": {
   "codemirror_mode": {
    "name": "ipython",
    "version": 3
   },
   "file_extension": ".py",
   "mimetype": "text/x-python",
   "name": "python",
   "nbconvert_exporter": "python",
   "pygments_lexer": "ipython3",
   "version": "3.11.4"
  },
  "orig_nbformat": 4
 },
 "nbformat": 4,
 "nbformat_minor": 2
}
